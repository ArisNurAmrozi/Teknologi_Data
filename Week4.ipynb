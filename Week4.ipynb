{
  "nbformat": 4,
  "nbformat_minor": 0,
  "metadata": {
    "colab": {
      "name": "Week4.ipynb",
      "provenance": [],
      "authorship_tag": "ABX9TyPh9EQIwuLUm0Wp2bsf0hSa",
      "include_colab_link": true
    },
    "kernelspec": {
      "name": "python3",
      "display_name": "Python 3"
    }
  },
  "cells": [
    {
      "cell_type": "markdown",
      "metadata": {
        "id": "view-in-github",
        "colab_type": "text"
      },
      "source": [
        "<a href=\"https://colab.research.google.com/github/ArisNurAmrozi/Teknologi_Data/blob/master/Week4.ipynb\" target=\"_parent\"><img src=\"https://colab.research.google.com/assets/colab-badge.svg\" alt=\"Open In Colab\"/></a>"
      ]
    },
    {
      "cell_type": "code",
      "metadata": {
        "colab": {
          "base_uri": "https://localhost:8080/"
        },
        "id": "mMbqZYhvIA9l",
        "outputId": "27440805-a8e0-45a9-ddb7-1a845d42511a"
      },
      "source": [
        "def tambah(a: int, b: int):\r\n",
        "    return a + b\r\n",
        "\r\n",
        "\r\n",
        "def kurang(a: int, b: int):\r\n",
        "    return a - b\r\n",
        "\r\n",
        "\r\n",
        "def kali(a: int, b: int):\r\n",
        "    return a * b\r\n",
        "\r\n",
        "\r\n",
        "def bagi(a: int, b: int):\r\n",
        "    return a / b\r\n",
        "\r\n",
        "\r\n",
        "def main():\r\n",
        "    while True:\r\n",
        "        a = int(input(\"Masukan Angka Pertama : \"))\r\n",
        "        b = int(input(\"Masukan Angka Kedua   : \"))\r\n",
        "        op = input(\"Masukan Operator : \")\r\n",
        "\r\n",
        "        if op == \"+\":\r\n",
        "            print(\"Hasil penjumlahan antara \" + str(a) + \" dengan \" + str(b) + \" adalah : \" + str(tambah(a, b)))\r\n",
        "        elif op == \"-\":\r\n",
        "            print(\"Hasil pengurangan antara \" + str(a) + \" dengan \" + str(b) + \" adalah : \" + str(kurang(a, b)))\r\n",
        "        elif op == \"*\":\r\n",
        "            print(\"Hasil perkalian antara \" + str(a) + \" dengan \" + str(b) + \" adalah : \" + str(kali(a, b)))\r\n",
        "        elif op == \"/\":\r\n",
        "            print(\"Hasil pembagian antara \" + str(a) + \" dengan \" + str(b) + \" adalah : \" + str(bagi(a, b)))\r\n",
        "        else:\r\n",
        "            print(\"Operator tidak ada\")\r\n",
        "\r\n",
        "        lagi = str(input(\"Lagi? (Y/T) : \")).lower()\r\n",
        "        if lagi == \"Y\":\r\n",
        "            return True\r\n",
        "        elif lagi == \"t\":\r\n",
        "            return False\r\n",
        "\r\n",
        "\r\n",
        "if __name__ == '__main__':\r\n",
        "    main()\r\n"
      ],
      "execution_count": null,
      "outputs": [
        {
          "output_type": "stream",
          "text": [
            "Masukan Angka Pertama : 12\n",
            "Masukan Angka Kedua   : 3\n",
            "Masukan Operator : +\n",
            "Hasil penjumlahan antara 12 dengan 3 adalah : 15\n",
            "Lagi? (Y/T) : Y\n",
            "Masukan Angka Pertama : 15\n",
            "Masukan Angka Kedua   : 10\n",
            "Masukan Operator : -\n",
            "Hasil pengurangan antara 15 dengan 10 adalah : 5\n"
          ],
          "name": "stdout"
        }
      ]
    }
  ]
}